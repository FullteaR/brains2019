{
 "cells": [
  {
   "cell_type": "code",
   "execution_count": null,
   "metadata": {},
   "outputs": [],
   "source": [
    "import pandas as pd\n",
    "import cv2\n",
    "import seaborn as sns\n",
    "import numpy as np\n",
    "from tqdm.notebook import tqdm\n",
    "from multiprocessing import Pool\n",
    "import os\n",
    "from scipy.stats import mode"
   ]
  },
  {
   "cell_type": "code",
   "execution_count": null,
   "metadata": {},
   "outputs": [],
   "source": [
    "y_preds=[]\n",
    "for fileName in tqdm(sorted(os.listdir(\"./result/classifier\"))):\n",
    "    y_pred=np.load(os.path.join(\"./result/classifier\",fileName))\n",
    "    y_preds.append(y_pred)\n",
    "y_preds=np.asarray(y_preds)"
   ]
  },
  {
   "cell_type": "code",
   "execution_count": null,
   "metadata": {},
   "outputs": [],
   "source": [
    "y_pred = np.mean(y_preds,axis=0)\n",
    "y_pred = np.argmax(y_pred, axis=1)\n",
    "y_pred+=1979"
   ]
  },
  {
   "cell_type": "code",
   "execution_count": null,
   "metadata": {},
   "outputs": [],
   "source": [
    "ans=pd.read_csv(\"./data/input/sample_submission.csv\", header=None)\n",
    "ans=ans.set_index(0)\n",
    "ans.drop([1],axis=1,inplace=True)\n",
    "ans[\"pred\"]=y_pred\n",
    "ans.to_csv(\"submission.csv\", header=None)"
   ]
  },
  {
   "cell_type": "code",
   "execution_count": null,
   "metadata": {},
   "outputs": [],
   "source": [
    "y_pred=np.argmax(y_preds,axis=2)\n",
    "y_pred, _=mode(y_pred,axis=0)\n",
    "y_pred=y_pred.reshape(-1,)\n",
    "y_pred+=1979\n",
    "ans[\"pred\"]=y_pred\n",
    "ans.to_csv(\"submission_hardvote.csv\", header=None)"
   ]
  },
  {
   "cell_type": "code",
   "execution_count": null,
   "metadata": {},
   "outputs": [],
   "source": [
    "for fileName in tqdm(sorted(os.listdir(\"./result/classifier\"))[42::]):\n",
    "    y_pred=np.load(os.path.join(\"./result/classifier\",fileName))\n",
    "    y_pred = np.argmax(y_pred, axis=1)\n",
    "    ans[fileName]=y_pred"
   ]
  },
  {
   "cell_type": "code",
   "execution_count": null,
   "metadata": {},
   "outputs": [],
   "source": [
    "#sns.pairplot(ans)"
   ]
  }
 ],
 "metadata": {
  "kernelspec": {
   "display_name": "Python 3",
   "language": "python",
   "name": "python3"
  },
  "language_info": {
   "codemirror_mode": {
    "name": "ipython",
    "version": 3
   },
   "file_extension": ".py",
   "mimetype": "text/x-python",
   "name": "python",
   "nbconvert_exporter": "python",
   "pygments_lexer": "ipython3",
   "version": "3.6.5"
  }
 },
 "nbformat": 4,
 "nbformat_minor": 2
}
