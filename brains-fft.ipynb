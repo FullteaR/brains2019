{
 "cells": [
  {
   "cell_type": "code",
   "execution_count": null,
   "metadata": {},
   "outputs": [],
   "source": [
    "import pandas as pd\n",
    "import cv2\n",
    "import seaborn as sns\n",
    "import numpy as np\n",
    "from tqdm.notebook import tqdm\n",
    "from multiprocessing import Pool\n",
    "import os\n",
    "import copy\n",
    "from datetime import datetime\n",
    "from sklearn.model_selection import train_test_split\n",
    "\n",
    "from keras.models import Sequential, Model, load_model\n",
    "from keras.layers import Dense, Dropout, Flatten, Conv2D, MaxPool2D, BatchNormalization, GlobalAveragePooling2D\n",
    "from keras.optimizers import Adam\n",
    "from keras.utils import to_categorical\n",
    "from keras.callbacks import EarlyStopping\n",
    "from keras.applications.vgg16 import VGG16\n",
    "from keras.applications.resnet_v2 import ResNet152V2, ResNet50V2\n",
    "from keras.applications.densenet import DenseNet121, DenseNet169\n",
    "from keras.applications.nasnet import NASNetMobile\n",
    "from keras.applications.inception_resnet_v2 import InceptionResNetV2\n",
    "from keras.preprocessing.image import ImageDataGenerator\n",
    "from keras.backend import clear_session\n",
    "\n",
    "import tensorflow as tf"
   ]
  },
  {
   "cell_type": "code",
   "execution_count": null,
   "metadata": {},
   "outputs": [],
   "source": [
    "os.environ[\"CUDA_VISIBLE_DEVICES\"]=\"1\""
   ]
  },
  {
   "cell_type": "code",
   "execution_count": null,
   "metadata": {},
   "outputs": [],
   "source": [
    "tqdm.pandas()"
   ]
  },
  {
   "cell_type": "code",
   "execution_count": null,
   "metadata": {},
   "outputs": [],
   "source": [
    "dataFolder=\"./data/input\"\n",
    "imageFolder=\"./data/input/train_images\"\n",
    "evalImageFolder=\"./data/input/test_images\"\n",
    "size=256"
   ]
  },
  {
   "cell_type": "code",
   "execution_count": null,
   "metadata": {},
   "outputs": [],
   "source": [
    "df=pd.read_csv(\"./data/input/train_labels.csv\", header=None)\n",
    "df=df.set_index(0)"
   ]
  },
  {
   "cell_type": "code",
   "execution_count": null,
   "metadata": {},
   "outputs": [],
   "source": [
    "df[\"classifier\"]=df[1]-1979\n",
    "df[\"regressor\"]=df[\"classifier\"]/(2018-1979)\n",
    "df.drop([1],axis=1,inplace=True)"
   ]
  },
  {
   "cell_type": "code",
   "execution_count": null,
   "metadata": {},
   "outputs": [],
   "source": [
    "def getImage(path):\n",
    "    img = cv2.imread(path)\n",
    "    img = cv2.cvtColor(img, cv2.COLOR_BGR2RGB)\n",
    "    img = np.fft.fft2(img)\n",
    "    img = np.real(img)\n",
    "    img = cv2.resize(img,(size,size))\n",
    "    img = img.astype(np.float32)\n",
    "    return img"
   ]
  },
  {
   "cell_type": "code",
   "execution_count": null,
   "metadata": {},
   "outputs": [],
   "source": [
    "with Pool() as p:\n",
    "    imap=p.imap(getImage,sorted([os.path.join(imageFolder,i) for i in os.listdir(imageFolder)]))\n",
    "    imgs=list(tqdm(imap,total=len(os.listdir(imageFolder))))\n",
    "imgs=np.asarray(imgs)/255\n",
    "\n",
    "with Pool() as p:\n",
    "    imap=p.imap(getImage,sorted([os.path.join(evalImageFolder,i) for i in os.listdir(evalImageFolder)]))\n",
    "    evalImgs=list(tqdm(imap,total=len(os.listdir(evalImageFolder))))\n",
    "evalImgs=np.asarray(evalImgs)/255"
   ]
  },
  {
   "cell_type": "code",
   "execution_count": null,
   "metadata": {},
   "outputs": [],
   "source": [
    "def getRes152BasedModel():\n",
    "    model = ResNet152V2(weights=None, include_top=False)\n",
    "    x = model.output\n",
    "    x = GlobalAveragePooling2D()(x)\n",
    "    x = Dense(256, activation=\"relu\")(x)\n",
    "    classifier = Dense(40, activation=\"softmax\")(x)\n",
    "    model = Model(inputs=model.input, outputs=classifier)\n",
    "    return model\n",
    "\n",
    "def getDense121BasedModel():\n",
    "    model = DenseNet121(weights=None, include_top=False)\n",
    "    x = model.output\n",
    "    x = GlobalAveragePooling2D()(x)\n",
    "    x = Dense(256, activation=\"relu\")(x)\n",
    "    classifier = Dense(40, activation=\"softmax\")(x)\n",
    "    model = Model(inputs=model.input, outputs=classifier)\n",
    "    return model\n",
    "\n",
    "def getInceptionResBasedModel():\n",
    "    model = InceptionResNetV2(weights=None, include_top=False)\n",
    "    x = model.output\n",
    "    x = GlobalAveragePooling2D()(x)\n",
    "    x = Dense(256, activation=\"relu\")(x)\n",
    "    classifier = Dense(40, activation=\"softmax\")(x)\n",
    "    model = Model(inputs=model.input, outputs=classifier)\n",
    "    return model\n",
    "\n",
    "def getRes50BasedModel():\n",
    "    model = ResNet50V2(weights=None, include_top=False)\n",
    "    x = model.output\n",
    "    x = GlobalAveragePooling2D()(x)\n",
    "    x = Dense(256, activation=\"relu\")(x)\n",
    "    classifier = Dense(40, activation=\"softmax\")(x)\n",
    "    model = Model(inputs=model.input, outputs=classifier)\n",
    "    return model\n",
    "\n",
    "def getDense169BasedModel():\n",
    "    model = DenseNet169(weights=None, include_top=False)\n",
    "    x = model.output\n",
    "    x = GlobalAveragePooling2D()(x)\n",
    "    x = Dense(256, activation=\"relu\")(x)\n",
    "    classifier = Dense(40, activation=\"softmax\")(x)\n",
    "    model = Model(inputs=model.input, outputs=classifier)\n",
    "    return model"
   ]
  },
  {
   "cell_type": "code",
   "execution_count": null,
   "metadata": {},
   "outputs": [],
   "source": [
    "#X_train, X_test, X_train_fft, X_test_fft, y_train, y_test = train_test_split(imgs, fftimgs, df,train_size=0.9,random_state=8000)\n",
    "X_train, X_test, y_train, y_test = train_test_split(imgs, df,train_size=0.9,random_state=8000)"
   ]
  },
  {
   "cell_type": "code",
   "execution_count": null,
   "metadata": {},
   "outputs": [],
   "source": [
    "def loss_fn(y_true, y_pred):\n",
    "    num_classes = 40\n",
    "    # クロスエントロピー\n",
    "    ce = tf.keras.losses.categorical_crossentropy\n",
    "\n",
    "    loss = 0\n",
    "\n",
    "    # 正解との誤差\n",
    "    loss += 0.98 * ce(y_true, y_pred)\n",
    "\n",
    "    # \"正解 - 1\"との誤差\n",
    "    mask = np.array([1] * (num_classes - 1) + [0], dtype=\"float32\")\n",
    "    loss += 0.01 * ce(mask * tf.roll(y_true, shift=-1, axis=1), y_pred)\n",
    "\n",
    "    # \"正解 + 1\"との誤差\n",
    "    mask = np.array([0] + [1] * (num_classes - 1), dtype=\"float32\")\n",
    "    loss += 0.01 * ce(mask * tf.roll(y_true, shift=1, axis=1), y_pred)\n",
    "    return loss\n",
    "\n",
    "\n",
    "def score_fn(y_true, y_pred):\n",
    "    y_true = tf.math.argmax(y_true, axis=-1, output_type=\"int32\")\n",
    "    y_pred = tf.math.argmax(y_pred, axis=-1, output_type=\"int32\")\n",
    "    return tf.cast(tf.less_equal(tf.math.abs(y_true - y_pred), 1), \"float32\")"
   ]
  },
  {
   "cell_type": "code",
   "execution_count": null,
   "metadata": {},
   "outputs": [],
   "source": [
    "early_stopping =  EarlyStopping(monitor='val_loss', min_delta=0.0, patience=8)"
   ]
  },
  {
   "cell_type": "code",
   "execution_count": null,
   "metadata": {
    "scrolled": false
   },
   "outputs": [],
   "source": [
    "for i in tqdm(range(100)):\n",
    "    for modelfunc in [getRes152BasedModel, getDense121BasedModel,getInceptionResBasedModel,getRes50BasedModel,getDense169BasedModel][::-1]:\n",
    "        model = modelfunc()\n",
    "        print(modelfunc)\n",
    "        model.compile(optimizer=Adam(), metrics=[\"acc\",score_fn], loss=loss_fn)\n",
    "        model.fit(X_train, to_categorical(y_train[\"classifier\"]), epochs=80, validation_data=(X_test,to_categorical(y_test[\"classifier\"])), callbacks=[early_stopping])\n",
    "        os.makedirs(\"./models/fft\",exist_ok=True)\n",
    "        date= int(float(datetime.now().timestamp()))\n",
    "        model.save('./models/fft/{0}.h5'.format(date))\n",
    "        y_pred=model.predict(evalImgs)\n",
    "        date= int(float(datetime.now().timestamp()))\n",
    "        np.save(\"./result/classifier/{0}.npy\".format(date), y_pred)\n",
    "        del model\n",
    "        clear_session()"
   ]
  },
  {
   "cell_type": "code",
   "execution_count": null,
   "metadata": {},
   "outputs": [],
   "source": []
  }
 ],
 "metadata": {
  "kernelspec": {
   "display_name": "Python 3",
   "language": "python",
   "name": "python3"
  },
  "language_info": {
   "codemirror_mode": {
    "name": "ipython",
    "version": 3
   },
   "file_extension": ".py",
   "mimetype": "text/x-python",
   "name": "python",
   "nbconvert_exporter": "python",
   "pygments_lexer": "ipython3",
   "version": "3.6.5"
  }
 },
 "nbformat": 4,
 "nbformat_minor": 2
}
