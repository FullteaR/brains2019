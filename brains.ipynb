{
 "cells": [
  {
   "cell_type": "code",
   "execution_count": 1,
   "metadata": {},
   "outputs": [
    {
     "name": "stderr",
     "output_type": "stream",
     "text": [
      "Using TensorFlow backend.\n"
     ]
    }
   ],
   "source": [
    "import pandas as pd\n",
    "import cv2\n",
    "import seaborn as sns\n",
    "import numpy as np\n",
    "from tqdm.notebook import tqdm\n",
    "from multiprocessing import Pool\n",
    "import os\n",
    "import copy\n",
    "from datetime import datetime\n",
    "from sklearn.model_selection import train_test_split\n",
    "\n",
    "from keras.models import Sequential, Model, load_model\n",
    "from keras.layers import Dense, Dropout, Flatten, Conv2D, MaxPool2D, BatchNormalization, GlobalAveragePooling2D\n",
    "from keras.optimizers import Adam\n",
    "from keras.utils import to_categorical\n",
    "from keras.callbacks import EarlyStopping\n",
    "from keras.applications.vgg16 import VGG16\n",
    "from keras.applications.resnet_v2 import ResNet152V2, ResNet50V2\n",
    "from keras.applications.densenet import DenseNet121, DenseNet169\n",
    "from keras.applications.inception_resnet_v2 import InceptionResNetV2\n",
    "from keras.applications.nasnet import NASNetMobile\n",
    "from keras.preprocessing.image import ImageDataGenerator\n",
    "from keras.backend import clear_session\n",
    "\n",
    "import tensorflow as tf"
   ]
  },
  {
   "cell_type": "code",
   "execution_count": 2,
   "metadata": {},
   "outputs": [],
   "source": [
    "tqdm.pandas()"
   ]
  },
  {
   "cell_type": "code",
   "execution_count": 3,
   "metadata": {},
   "outputs": [],
   "source": [
    "os.environ[\"CUDA_VISIBLE_DEVICES\"]=\"0\""
   ]
  },
  {
   "cell_type": "code",
   "execution_count": 4,
   "metadata": {},
   "outputs": [],
   "source": [
    "dataFolder=\"./data/input\"\n",
    "imageFolder=\"./data/input/train_images\"\n",
    "evalImageFolder=\"./data/input/test_images\"\n",
    "size=256"
   ]
  },
  {
   "cell_type": "code",
   "execution_count": 5,
   "metadata": {},
   "outputs": [],
   "source": [
    "df=pd.read_csv(\"./data/input/train_labels.csv\", header=None)\n",
    "df=df.set_index(0)"
   ]
  },
  {
   "cell_type": "code",
   "execution_count": 6,
   "metadata": {},
   "outputs": [],
   "source": [
    "df[\"classifier\"]=df[1]-1979\n",
    "df[\"regressor\"]=df[\"classifier\"]/(2018-1979)\n",
    "df.drop([1],axis=1,inplace=True)"
   ]
  },
  {
   "cell_type": "code",
   "execution_count": 7,
   "metadata": {},
   "outputs": [],
   "source": [
    "def getImage(path):\n",
    "    img = cv2.imread(path)\n",
    "    img = cv2.cvtColor(img, cv2.COLOR_BGR2RGB)\n",
    "    img = cv2.resize(img,(size,size))\n",
    "    img = np.real(img)\n",
    "    img = img.astype(np.float32)\n",
    "    return img"
   ]
  },
  {
   "cell_type": "code",
   "execution_count": 8,
   "metadata": {},
   "outputs": [
    {
     "data": {
      "application/vnd.jupyter.widget-view+json": {
       "model_id": "a2c8424530ad4267bb99a030152c65ca",
       "version_major": 2,
       "version_minor": 0
      },
      "text/plain": [
       "HBox(children=(FloatProgress(value=0.0, max=6686.0), HTML(value='')))"
      ]
     },
     "metadata": {},
     "output_type": "display_data"
    },
    {
     "name": "stdout",
     "output_type": "stream",
     "text": [
      "\n"
     ]
    },
    {
     "data": {
      "application/vnd.jupyter.widget-view+json": {
       "model_id": "b14d1cb6c37b4f9dae7ad73b5fe25a9f",
       "version_major": 2,
       "version_minor": 0
      },
      "text/plain": [
       "HBox(children=(FloatProgress(value=0.0, max=1671.0), HTML(value='')))"
      ]
     },
     "metadata": {},
     "output_type": "display_data"
    },
    {
     "name": "stdout",
     "output_type": "stream",
     "text": [
      "\n"
     ]
    }
   ],
   "source": [
    "with Pool() as p:\n",
    "    imap=p.imap(getImage,sorted([os.path.join(imageFolder,i) for i in os.listdir(imageFolder)]))\n",
    "    imgs=list(tqdm(imap,total=len(os.listdir(imageFolder))))\n",
    "imgs=np.asarray(imgs)/255\n",
    "\n",
    "with Pool() as p:\n",
    "    imap=p.imap(getImage,sorted([os.path.join(evalImageFolder,i) for i in os.listdir(evalImageFolder)]))\n",
    "    evalImgs=list(tqdm(imap,total=len(os.listdir(evalImageFolder))))\n",
    "evalImgs=np.asarray(evalImgs)/255"
   ]
  },
  {
   "cell_type": "code",
   "execution_count": 9,
   "metadata": {},
   "outputs": [],
   "source": [
    "def getRes152BasedModel():\n",
    "    model = ResNet152V2(weights=None, include_top=False)\n",
    "    x = model.output\n",
    "    x = GlobalAveragePooling2D()(x)\n",
    "    x = Dense(256, activation=\"relu\")(x)\n",
    "    classifier = Dense(40, activation=\"softmax\")(x)\n",
    "    model = Model(inputs=model.input, outputs=classifier)\n",
    "    return model\n",
    "\n",
    "def getDense121BasedModel():\n",
    "    model = DenseNet121(weights=None, include_top=False)\n",
    "    x = model.output\n",
    "    x = GlobalAveragePooling2D()(x)\n",
    "    x = Dense(256, activation=\"relu\")(x)\n",
    "    classifier = Dense(40, activation=\"softmax\")(x)\n",
    "    model = Model(inputs=model.input, outputs=classifier)\n",
    "    return model\n",
    "\n",
    "def getInceptionResBasedModel():\n",
    "    model = InceptionResNetV2(weights=None, include_top=False)\n",
    "    x = model.output\n",
    "    x = GlobalAveragePooling2D()(x)\n",
    "    x = Dense(256, activation=\"relu\")(x)\n",
    "    classifier = Dense(40, activation=\"softmax\")(x)\n",
    "    model = Model(inputs=model.input, outputs=classifier)\n",
    "    return model\n",
    "\n",
    "def getRes50BasedModel():\n",
    "    model = ResNet50V2(weights=None, include_top=False)\n",
    "    x = model.output\n",
    "    x = GlobalAveragePooling2D()(x)\n",
    "    x = Dense(256, activation=\"relu\")(x)\n",
    "    classifier = Dense(40, activation=\"softmax\")(x)\n",
    "    model = Model(inputs=model.input, outputs=classifier)\n",
    "    return model\n",
    "\n",
    "def getDense169BasedModel():\n",
    "    model = DenseNet169(weights=None, include_top=False)\n",
    "    x = model.output\n",
    "    x = GlobalAveragePooling2D()(x)\n",
    "    x = Dense(256, activation=\"relu\")(x)\n",
    "    classifier = Dense(40, activation=\"softmax\")(x)\n",
    "    model = Model(inputs=model.input, outputs=classifier)\n",
    "    return model"
   ]
  },
  {
   "cell_type": "code",
   "execution_count": 10,
   "metadata": {},
   "outputs": [],
   "source": [
    "#X_train, X_test, X_train_fft, X_test_fft, y_train, y_test = train_test_split(imgs, fftimgs, df,train_size=0.9,random_state=8000)\n",
    "X_train, X_test, y_train, y_test = train_test_split(imgs, df,train_size=0.9,random_state=8000)"
   ]
  },
  {
   "cell_type": "code",
   "execution_count": 11,
   "metadata": {},
   "outputs": [],
   "source": [
    "def loss_fn(y_true, y_pred):\n",
    "    num_classes = 40\n",
    "    # クロスエントロピー\n",
    "    ce = tf.keras.losses.categorical_crossentropy\n",
    "\n",
    "    loss = 0\n",
    "\n",
    "    # 正解との誤差\n",
    "    loss += 0.98 * ce(y_true, y_pred)\n",
    "\n",
    "    # \"正解 - 1\"との誤差\n",
    "    mask = np.array([1] * (num_classes - 1) + [0], dtype=\"float32\")\n",
    "    loss += 0.01 * ce(mask * tf.roll(y_true, shift=-1, axis=1), y_pred)\n",
    "\n",
    "    # \"正解 + 1\"との誤差\n",
    "    mask = np.array([0] + [1] * (num_classes - 1), dtype=\"float32\")\n",
    "    loss += 0.01 * ce(mask * tf.roll(y_true, shift=1, axis=1), y_pred)\n",
    "    return loss\n",
    "\n",
    "\n",
    "def score_fn(y_true, y_pred):\n",
    "    y_true = tf.math.argmax(y_true, axis=-1, output_type=\"int32\")\n",
    "    y_pred = tf.math.argmax(y_pred, axis=-1, output_type=\"int32\")\n",
    "    return tf.cast(tf.less_equal(tf.math.abs(y_true - y_pred), 1), \"float32\")"
   ]
  },
  {
   "cell_type": "code",
   "execution_count": 12,
   "metadata": {},
   "outputs": [],
   "source": [
    "early_stopping =  EarlyStopping(monitor='val_loss', min_delta=0.0, patience=8)"
   ]
  },
  {
   "cell_type": "code",
   "execution_count": null,
   "metadata": {
    "scrolled": false
   },
   "outputs": [
    {
     "data": {
      "application/vnd.jupyter.widget-view+json": {
       "model_id": "58f797f7553d4c68950ecf2bb67ce764",
       "version_major": 2,
       "version_minor": 0
      },
      "text/plain": [
       "HBox(children=(FloatProgress(value=0.0), HTML(value='')))"
      ]
     },
     "metadata": {},
     "output_type": "display_data"
    },
    {
     "name": "stdout",
     "output_type": "stream",
     "text": [
      "<function getRes152BasedModel at 0x7efd2f7bc400>\n",
      "Train on 6017 samples, validate on 669 samples\n",
      "Epoch 1/80\n",
      "6017/6017 [==============================] - 245s 41ms/step - loss: 3.3377 - acc: 0.0986 - score_fn: 0.1949 - val_loss: 3.6701 - val_acc: 0.0658 - val_score_fn: 0.1330\n",
      "Epoch 2/80\n",
      "6017/6017 [==============================] - 137s 23ms/step - loss: 3.2276 - acc: 0.1122 - score_fn: 0.2144 - val_loss: 12.2744 - val_acc: 0.0613 - val_score_fn: 0.1315\n",
      "Epoch 3/80\n",
      "6017/6017 [==============================] - 137s 23ms/step - loss: 3.1145 - acc: 0.1293 - score_fn: 0.2431 - val_loss: 3.6032 - val_acc: 0.1181 - val_score_fn: 0.2152\n",
      "Epoch 4/80\n",
      "6017/6017 [==============================] - 137s 23ms/step - loss: 3.0288 - acc: 0.1409 - score_fn: 0.2626 - val_loss: 7.9809 - val_acc: 0.0478 - val_score_fn: 0.0822\n",
      "Epoch 5/80\n",
      "6017/6017 [==============================] - 138s 23ms/step - loss: 2.9777 - acc: 0.1482 - score_fn: 0.2711 - val_loss: 3.4074 - val_acc: 0.1001 - val_score_fn: 0.2093\n",
      "Epoch 6/80\n",
      "6017/6017 [==============================] - 138s 23ms/step - loss: 2.9261 - acc: 0.1589 - score_fn: 0.2854 - val_loss: 3.0960 - val_acc: 0.1360 - val_score_fn: 0.2706\n",
      "Epoch 7/80\n",
      "6017/6017 [==============================] - 138s 23ms/step - loss: 2.8745 - acc: 0.1667 - score_fn: 0.2928 - val_loss: 2.9550 - val_acc: 0.1510 - val_score_fn: 0.2765\n",
      "Epoch 8/80\n",
      "6017/6017 [==============================] - 137s 23ms/step - loss: 2.8462 - acc: 0.1685 - score_fn: 0.3016 - val_loss: 3.8610 - val_acc: 0.1196 - val_score_fn: 0.2317\n",
      "Epoch 9/80\n",
      "6017/6017 [==============================] - 137s 23ms/step - loss: 2.7996 - acc: 0.1782 - score_fn: 0.3051 - val_loss: 6.4483 - val_acc: 0.0688 - val_score_fn: 0.1315\n",
      "Epoch 10/80\n",
      "6017/6017 [==============================] - 137s 23ms/step - loss: 2.7906 - acc: 0.1785 - score_fn: 0.3108 - val_loss: 3.1113 - val_acc: 0.1256 - val_score_fn: 0.2347\n",
      "Epoch 11/80\n",
      "6017/6017 [==============================] - 137s 23ms/step - loss: 2.7509 - acc: 0.1822 - score_fn: 0.3139 - val_loss: 3.0568 - val_acc: 0.1345 - val_score_fn: 0.2422\n",
      "Epoch 12/80\n",
      "6017/6017 [==============================] - 138s 23ms/step - loss: 2.7244 - acc: 0.1911 - score_fn: 0.3236 - val_loss: 2.9298 - val_acc: 0.1689 - val_score_fn: 0.2885\n",
      "Epoch 13/80\n",
      "6017/6017 [==============================] - 136s 23ms/step - loss: 2.7428 - acc: 0.1954 - score_fn: 0.3324 - val_loss: 2.9693 - val_acc: 0.1629 - val_score_fn: 0.2661\n",
      "Epoch 14/80\n",
      "6017/6017 [==============================] - 136s 23ms/step - loss: 2.6730 - acc: 0.2016 - score_fn: 0.3352 - val_loss: 2.8081 - val_acc: 0.1973 - val_score_fn: 0.3333\n",
      "Epoch 15/80\n",
      "6017/6017 [==============================] - 136s 23ms/step - loss: 2.6799 - acc: 0.2061 - score_fn: 0.3412 - val_loss: 2.8546 - val_acc: 0.1599 - val_score_fn: 0.2930\n",
      "Epoch 16/80\n",
      "6017/6017 [==============================] - 136s 23ms/step - loss: 2.6330 - acc: 0.2174 - score_fn: 0.3507 - val_loss: 2.8088 - val_acc: 0.1824 - val_score_fn: 0.2990\n",
      "Epoch 17/80\n",
      "6017/6017 [==============================] - 136s 23ms/step - loss: 2.5959 - acc: 0.2259 - score_fn: 0.3703 - val_loss: 2.7837 - val_acc: 0.1898 - val_score_fn: 0.3288\n",
      "Epoch 18/80\n",
      "6017/6017 [==============================] - 144s 24ms/step - loss: 2.5769 - acc: 0.2295 - score_fn: 0.3779 - val_loss: 2.8284 - val_acc: 0.1973 - val_score_fn: 0.3274\n",
      "Epoch 19/80\n",
      "6017/6017 [==============================] - 149s 25ms/step - loss: 2.5426 - acc: 0.2347 - score_fn: 0.3851 - val_loss: 3.0097 - val_acc: 0.1898 - val_score_fn: 0.3214\n",
      "Epoch 20/80\n",
      "6017/6017 [==============================] - 148s 25ms/step - loss: 2.5078 - acc: 0.2451 - score_fn: 0.3902 - val_loss: 2.8249 - val_acc: 0.2033 - val_score_fn: 0.3558\n",
      "Epoch 21/80\n",
      "6017/6017 [==============================] - 136s 23ms/step - loss: 2.4787 - acc: 0.2458 - score_fn: 0.3975 - val_loss: 2.7566 - val_acc: 0.2272 - val_score_fn: 0.3692\n",
      "Epoch 22/80\n",
      "6017/6017 [==============================] - 136s 23ms/step - loss: 2.4440 - acc: 0.2613 - score_fn: 0.4065 - val_loss: 2.6699 - val_acc: 0.2287 - val_score_fn: 0.3558\n",
      "Epoch 23/80\n",
      "6017/6017 [==============================] - 136s 23ms/step - loss: 2.4278 - acc: 0.2619 - score_fn: 0.4196 - val_loss: 3.5411 - val_acc: 0.1584 - val_score_fn: 0.2571\n",
      "Epoch 24/80\n",
      "6017/6017 [==============================] - 136s 23ms/step - loss: 2.3970 - acc: 0.2656 - score_fn: 0.4180 - val_loss: 2.7194 - val_acc: 0.2182 - val_score_fn: 0.3886\n",
      "Epoch 25/80\n",
      "6017/6017 [==============================] - 136s 23ms/step - loss: 2.3818 - acc: 0.2812 - score_fn: 0.4319 - val_loss: 2.8169 - val_acc: 0.2108 - val_score_fn: 0.3587\n",
      "Epoch 26/80\n",
      "6017/6017 [==============================] - 136s 23ms/step - loss: 2.3266 - acc: 0.2860 - score_fn: 0.4403 - val_loss: 2.7351 - val_acc: 0.2481 - val_score_fn: 0.3827\n",
      "Epoch 27/80\n",
      "6017/6017 [==============================] - 136s 23ms/step - loss: 2.2916 - acc: 0.2962 - score_fn: 0.4457 - val_loss: 2.6408 - val_acc: 0.2466 - val_score_fn: 0.4021\n",
      "Epoch 28/80\n",
      "6017/6017 [==============================] - 136s 23ms/step - loss: 2.2462 - acc: 0.3085 - score_fn: 0.4625 - val_loss: 2.7448 - val_acc: 0.2302 - val_score_fn: 0.3752\n",
      "Epoch 29/80\n",
      "6017/6017 [==============================] - 136s 23ms/step - loss: 2.2222 - acc: 0.3198 - score_fn: 0.4803 - val_loss: 2.9259 - val_acc: 0.2257 - val_score_fn: 0.3842\n",
      "Epoch 30/80\n",
      "6017/6017 [==============================] - 136s 23ms/step - loss: 2.1704 - acc: 0.3370 - score_fn: 0.4855 - val_loss: 2.6950 - val_acc: 0.2466 - val_score_fn: 0.4126\n",
      "Epoch 31/80\n",
      "6017/6017 [==============================] - 136s 23ms/step - loss: 2.1244 - acc: 0.3442 - score_fn: 0.5069 - val_loss: 2.5988 - val_acc: 0.2422 - val_score_fn: 0.4036\n",
      "Epoch 32/80\n",
      "6017/6017 [==============================] - 136s 23ms/step - loss: 2.0997 - acc: 0.3440 - score_fn: 0.5009 - val_loss: 2.6605 - val_acc: 0.2706 - val_score_fn: 0.4305\n",
      "Epoch 33/80\n",
      "6017/6017 [==============================] - 141s 23ms/step - loss: 2.1690 - acc: 0.3395 - score_fn: 0.4931 - val_loss: 2.7154 - val_acc: 0.2466 - val_score_fn: 0.3931\n",
      "Epoch 34/80\n",
      "6017/6017 [==============================] - 150s 25ms/step - loss: 2.0361 - acc: 0.3663 - score_fn: 0.5275 - val_loss: 2.7228 - val_acc: 0.2422 - val_score_fn: 0.4006\n",
      "Epoch 35/80\n",
      "6017/6017 [==============================] - 150s 25ms/step - loss: 1.9913 - acc: 0.3744 - score_fn: 0.5355 - val_loss: 2.6641 - val_acc: 0.2556 - val_score_fn: 0.4365\n",
      "Epoch 36/80\n",
      "6017/6017 [==============================] - 139s 23ms/step - loss: 1.9517 - acc: 0.3877 - score_fn: 0.5470 - val_loss: 2.6623 - val_acc: 0.2586 - val_score_fn: 0.4036\n",
      "Epoch 37/80\n",
      "6017/6017 [==============================] - 142s 24ms/step - loss: 1.9067 - acc: 0.3987 - score_fn: 0.5654 - val_loss: 2.8118 - val_acc: 0.2631 - val_score_fn: 0.4200\n",
      "Epoch 38/80\n",
      "6017/6017 [==============================] - 136s 23ms/step - loss: 1.8817 - acc: 0.4090 - score_fn: 0.5654 - val_loss: 2.5530 - val_acc: 0.2765 - val_score_fn: 0.4320\n",
      "Epoch 39/80\n",
      "6017/6017 [==============================] - 136s 23ms/step - loss: 1.8092 - acc: 0.4250 - score_fn: 0.5875 - val_loss: 2.7126 - val_acc: 0.2691 - val_score_fn: 0.4499\n",
      "Epoch 40/80\n",
      "6017/6017 [==============================] - 136s 23ms/step - loss: 1.7177 - acc: 0.4582 - score_fn: 0.6156 - val_loss: 2.7191 - val_acc: 0.2616 - val_score_fn: 0.4395\n",
      "Epoch 41/80\n",
      "6017/6017 [==============================] - 136s 23ms/step - loss: 1.6783 - acc: 0.4692 - score_fn: 0.6287 - val_loss: 3.0574 - val_acc: 0.2317 - val_score_fn: 0.3961\n",
      "Epoch 42/80\n",
      "6017/6017 [==============================] - 136s 23ms/step - loss: 1.6566 - acc: 0.4762 - score_fn: 0.6276 - val_loss: 2.8073 - val_acc: 0.2795 - val_score_fn: 0.4439\n",
      "Epoch 43/80\n",
      "6017/6017 [==============================] - 136s 23ms/step - loss: 1.5598 - acc: 0.5026 - score_fn: 0.6608 - val_loss: 2.8969 - val_acc: 0.2840 - val_score_fn: 0.4365\n",
      "Epoch 44/80\n",
      "6017/6017 [==============================] - 136s 23ms/step - loss: 1.5522 - acc: 0.5027 - score_fn: 0.6555 - val_loss: 3.1079 - val_acc: 0.2451 - val_score_fn: 0.4126\n",
      "Epoch 45/80\n",
      "6017/6017 [==============================] - 136s 23ms/step - loss: 1.4458 - acc: 0.5288 - score_fn: 0.6821 - val_loss: 3.1639 - val_acc: 0.2526 - val_score_fn: 0.4111\n",
      "Epoch 46/80\n"
     ]
    },
    {
     "name": "stdout",
     "output_type": "stream",
     "text": [
      "2400/6017 [==========>...................] - ETA: 1:19 - loss: 1.4070 - acc: 0.5663 - score_fn: 0.7138"
     ]
    }
   ],
   "source": [
    "for i in tqdm(range(100)):\n",
    "    for modelfunc in [getRes152BasedModel, getDense121BasedModel,getInceptionResBasedModel,getRes50BasedModel,getDense169BasedModel]:\n",
    "        model = modelfunc()\n",
    "        print(modelfunc)\n",
    "        model.compile(optimizer=Adam(), metrics=[\"acc\",score_fn], loss=loss_fn)\n",
    "        model.fit(X_train, to_categorical(y_train[\"classifier\"]), epochs=80, validation_data=(X_test,to_categorical(y_test[\"classifier\"])), callbacks=[early_stopping])\n",
    "        os.makedirs(\"./models/normal\",exist_ok=True)\n",
    "        date= int(float(datetime.now().timestamp()))\n",
    "        model.save('./models/normal/{0}.h5'.format(date))\n",
    "        y_pred=model.predict(evalImgs)\n",
    "        date= int(float(datetime.now().timestamp()))\n",
    "        np.save(\"./result/classifier/{0}.npy\".format(date), y_pred)\n",
    "        del model\n",
    "        clear_session()"
   ]
  },
  {
   "cell_type": "code",
   "execution_count": null,
   "metadata": {},
   "outputs": [],
   "source": [
    "print(modelfunc)"
   ]
  },
  {
   "cell_type": "code",
   "execution_count": null,
   "metadata": {},
   "outputs": [],
   "source": []
  }
 ],
 "metadata": {
  "kernelspec": {
   "display_name": "Python 3",
   "language": "python",
   "name": "python3"
  },
  "language_info": {
   "codemirror_mode": {
    "name": "ipython",
    "version": 3
   },
   "file_extension": ".py",
   "mimetype": "text/x-python",
   "name": "python",
   "nbconvert_exporter": "python",
   "pygments_lexer": "ipython3",
   "version": "3.6.5"
  }
 },
 "nbformat": 4,
 "nbformat_minor": 2
}
